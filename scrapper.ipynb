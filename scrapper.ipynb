{
 "cells": [
  {
   "cell_type": "code",
   "execution_count": 1,
   "metadata": {
    "collapsed": false
   },
   "outputs": [],
   "source": [
    "from lxml import html\n",
    "import requests\n",
    "import unidecode\n",
    "import math"
   ]
  },
  {
   "cell_type": "code",
   "execution_count": 2,
   "metadata": {
    "collapsed": true
   },
   "outputs": [],
   "source": [
    "base_url = \"https://whatthefuckjusthappenedtoday.com\"\n"
   ]
  },
  {
   "cell_type": "code",
   "execution_count": 17,
   "metadata": {
    "collapsed": false
   },
   "outputs": [],
   "source": [
    "# grabbing headlines from main page. Let's navigate to the that days article\n",
    "page = requests.get('https://whatthefuckjusthappenedtoday.com/')\n",
    "main_tree = html.fromstring(page.content)\n",
    "article_date_url = main_tree.xpath('//h2/a/@href')[0]\n",
    "# tree.xpath('//strong/following-sibling::text()') #finds all the bold text"
   ]
  },
  {
   "cell_type": "code",
   "execution_count": 4,
   "metadata": {
    "collapsed": false
   },
   "outputs": [
    {
     "data": {
      "text/plain": [
       "'/2017/03/31/Day-71/'"
      ]
     },
     "execution_count": 4,
     "metadata": {},
     "output_type": "execute_result"
    }
   ],
   "source": [
    "article_date_url"
   ]
  },
  {
   "cell_type": "code",
   "execution_count": 5,
   "metadata": {
    "collapsed": false
   },
   "outputs": [
    {
     "name": "stdout",
     "output_type": "stream",
     "text": [
      "https://whatthefuckjusthappenedtoday.com/2017/03/31/Day-71/\n"
     ]
    }
   ],
   "source": [
    "#standard article\n",
    "article_url = base_url+article_date_url\n",
    "print(article_url)\n",
    "\n",
    "article_page = requests.get(article_url)\n",
    "article_tree = html.fromstring(article_page.content)"
   ]
  },
  {
   "cell_type": "code",
   "execution_count": 6,
   "metadata": {
    "collapsed": false
   },
   "outputs": [],
   "source": [
    "text = article_tree.xpath('//div/main/div[2]/article/p/text()')\n",
    "ct = [unidecode.unidecode(row)for row in text]"
   ]
  },
  {
   "cell_type": "code",
   "execution_count": 7,
   "metadata": {
    "collapsed": false
   },
   "outputs": [
    {
     "name": "stdout",
     "output_type": "stream",
     "text": [
      "https://whatthefuckjusthappenedtoday.com/2017/03/31/Day-71/\n"
     ]
    }
   ],
   "source": [
    "article_url = base_url+article_date_url\n",
    "print(article_url)\n",
    "\n",
    "article_page = requests.get(article_url)\n",
    "article_tree = html.fromstring(article_page.content)"
   ]
  },
  {
   "cell_type": "code",
   "execution_count": 10,
   "metadata": {
    "collapsed": false
   },
   "outputs": [],
   "source": [
    "bold_text = article_tree.xpath('//article/p/strong/text()')\n",
    "non_bold_text = article_tree.xpath('//div/main/div[2]/article/p/text()')\n",
    "source = article_tree.xpath('//p/a/text()')"
   ]
  },
  {
   "cell_type": "code",
   "execution_count": 11,
   "metadata": {
    "collapsed": false
   },
   "outputs": [],
   "source": [
    "reg_text = []\n",
    "for item in non_bold_text:\n",
    "    if len(item)>4:\n",
    "        reg_text.append(item)"
   ]
  },
  {
   "cell_type": "code",
   "execution_count": 16,
   "metadata": {
    "collapsed": false
   },
   "outputs": [
    {
     "name": "stdout",
     "output_type": "stream",
     "text": [
      "Trump urged Flynn to seek immunity, calling the congressional inquiries a “witch hunt” by the media and Democrats. Trump tweeted the statement after Flynn asked for immunity in order to testify to the House and Senate Intelligence Committees. Reported from New York Times.\n",
      "**************************************************\n",
      "The Senate Intelligence Committee rejected Flynn’s request for immunity in exchange for his testimony. Flynn’s lawyer was told it was “wildly preliminary” and that immunity was “not on the table.” Reported from NBC News.\n",
      "**************************************************\n",
      "Schiff said it’s too early for the House Intelligence Committee to discuss immunity in exchange for Flynn’s testimony. Schiff said he would discuss Flynn’s offer with the Senate Intelligence Committee and the Justice Department, and that he would need to receive details about what Flynn would say. Reported from Bloomberg.\n",
      "**************************************************\n",
      "Tom Price helped kill a rule that would hurt drug company profits the same day he acquired drug stock. The HHS secretary bought $90,000 worth of pharmaceutical stock. He said his broker acted on his behalf without his involvement or knowledge. Reported from ProPublica.\n",
      "**************************************************\n",
      "The first two Democrats back Trump’s Supreme Court pick. The support by Senators Joe Manchin and Heidi Heitkamp of Neil Gorsuch give Republicans two of the eight Democratic votes needed to avoid a fight on the Senate floor next week. Reported from Reuters.\n",
      "**************************************************\n",
      "Trump says he will hold Congress “accountable” on health care. He began the day on Twitter, calling for his supporters to fight conservative members of his own party in the midterm elections. Trump’s director of legislative affairs called that “accountability.” Reported from ABC News.\n",
      "**************************************************\n",
      "Germany balks at Tillerson’s call to spend more on NATO defense. The German foreign minister said it was neither “reachable nor desirable” for Germany to spend the 2% of member states’ economic output on defense. NATO allies have until 2024 to do that. Reported from Reuters.\n",
      "**************************************************\n",
      "U.S. Defense Secretary Jim Mattis says North Korea has “got to be stopped.” He emphasized diplomatic means of changing Pyongyang’s “reckless” agenda. Reported from Washington Post.\n",
      "**************************************************\n",
      "Senate voted to eliminate a rule aimed at boosting retirement accounts for low-income workers. Senators voted 50-49 to roll back a rule meant to encourage states to create retirement plans for private-sector workers whose employers do not offer their own retirement plans. Reported from The Hill.\n",
      "**************************************************\n"
     ]
    }
   ],
   "source": [
    "for item in range(len(bold_text)):\n",
    "    full_text = bold_text[item] + reg_text[item] + \"Reported from \"+ source[item] + \".\"\n",
    "    print(full_text.replace(\"(\",\"\"))\n",
    "    print(\"*\"*50)"
   ]
  },
  {
   "cell_type": "code",
   "execution_count": 32,
   "metadata": {
    "collapsed": false
   },
   "outputs": [
    {
     "data": {
      "text/plain": [
       "['Updated: 03/31/2017 02:10:47 PM PDT\\n']"
      ]
     },
     "execution_count": 32,
     "metadata": {},
     "output_type": "execute_result"
    }
   ],
   "source": [
    "#the bold and regular text are separate. Need to merge. Can I assume that each return is 3 rows?\n",
    "article_tree.xpath('/html/body/div/main/div[2]/article/time/small[2]/em/text()')"
   ]
  },
  {
   "cell_type": "code",
   "execution_count": 76,
   "metadata": {
    "collapsed": false
   },
   "outputs": [
    {
     "data": {
      "text/plain": [
       "['https://www.nytimes.com/2017/03/31/us/politics/trump-calls-congressional-inquiry-witch-hunt.html',\n",
       " 'http://www.nbcnews.com/news/us-news/senate-intelligence-committee-rejects-immunity-michael-flynn-n741061',\n",
       " 'https://www.bloomberg.com/politics/articles/2017-03-30/flynn-said-to-seek-immunity-to-testify-in-russia-investigations',\n",
       " 'https://www.propublica.org/article/tom-price-intervened-rule-hurt-drug-profits-same-day-acquired-drug-stock',\n",
       " 'http://www.reuters.com/article/us-usa-trump-gorsuch-democrats-idUSKBN17131D',\n",
       " 'http://abcnews.go.com/Politics/white-house-official-trump-hold-congress-accountable-health/story?id=46478143',\n",
       " 'http://www.reuters.com/article/us-nato-idUSKBN1720WV',\n",
       " 'https://www.washingtonpost.com/world/europe/us-defense-chief-worries-about-reckless-nkorea-actions/2017/03/31/88e21830-1607-11e7-bb16-269934184168_story.html',\n",
       " 'http://thehill.com/blogs/floor-action/senate/326484-senate-votes-to-eliminate-obama-era-retirement-rule']"
      ]
     },
     "execution_count": 76,
     "metadata": {},
     "output_type": "execute_result"
    }
   ],
   "source": [
    "# math.floor(len(ct)/3)\n"
   ]
  },
  {
   "cell_type": "code",
   "execution_count": 168,
   "metadata": {
    "collapsed": false
   },
   "outputs": [
    {
     "data": {
      "text/plain": [
       "8"
      ]
     },
     "execution_count": 168,
     "metadata": {},
     "output_type": "execute_result"
    }
   ],
   "source": [
    "len(article_tree.xpath('//div/main/div[2]/article/p/strong/text()'))"
   ]
  },
  {
   "cell_type": "code",
   "execution_count": 171,
   "metadata": {
    "collapsed": false
   },
   "outputs": [],
   "source": [
    "bold_text = article_tree.xpath('//div/main/div[2]/article/p/strong/text()')\n",
    "regular_text = article_tree.xpath('//div/main/div[2]/article/p[1]/text()')"
   ]
  },
  {
   "cell_type": "code",
   "execution_count": 79,
   "metadata": {
    "collapsed": false
   },
   "outputs": [
    {
     "ename": "IndexError",
     "evalue": "list index out of range",
     "output_type": "error",
     "traceback": [
      "\u001b[0;31m---------------------------------------------------------------------------\u001b[0m",
      "\u001b[0;31mIndexError\u001b[0m                                Traceback (most recent call last)",
      "\u001b[0;32m<ipython-input-79-cec3f8fbd925>\u001b[0m in \u001b[0;36m<module>\u001b[0;34m()\u001b[0m\n\u001b[0;32m----> 1\u001b[0;31m \u001b[0marticle_tree\u001b[0m\u001b[1;33m.\u001b[0m\u001b[0mxpath\u001b[0m\u001b[1;33m(\u001b[0m\u001b[1;34m\"/html/body/div/main/div[2]/article/p[1]/a/text()\"\u001b[0m\u001b[1;33m)\u001b[0m\u001b[1;33m[\u001b[0m\u001b[1;36m0\u001b[0m\u001b[1;33m]\u001b[0m\u001b[1;33m\u001b[0m\u001b[0m\n\u001b[0m",
      "\u001b[0;31mIndexError\u001b[0m: list index out of range"
     ]
    }
   ],
   "source": [
    "article_tree.xpath(\"/html/body/div/main/div[2]/article/p[1]/a/text()\")[0]"
   ]
  },
  {
   "cell_type": "code",
   "execution_count": null,
   "metadata": {
    "collapsed": false
   },
   "outputs": [],
   "source": []
  },
  {
   "cell_type": "code",
   "execution_count": null,
   "metadata": {
    "collapsed": false
   },
   "outputs": [],
   "source": []
  },
  {
   "cell_type": "code",
   "execution_count": null,
   "metadata": {
    "collapsed": true
   },
   "outputs": [],
   "source": []
  },
  {
   "cell_type": "code",
   "execution_count": 72,
   "metadata": {
    "collapsed": false
   },
   "outputs": [
    {
     "ename": "IndexError",
     "evalue": "list index out of range",
     "output_type": "error",
     "traceback": [
      "\u001b[0;31m---------------------------------------------------------------------------\u001b[0m",
      "\u001b[0;31mIndexError\u001b[0m                                Traceback (most recent call last)",
      "\u001b[0;32m<ipython-input-72-23b2069c5c1a>\u001b[0m in \u001b[0;36m<module>\u001b[0;34m()\u001b[0m\n\u001b[1;32m      1\u001b[0m \u001b[1;32mfor\u001b[0m \u001b[0mindex\u001b[0m\u001b[1;33m,\u001b[0m \u001b[0mitem\u001b[0m \u001b[1;32min\u001b[0m \u001b[0menumerate\u001b[0m\u001b[1;33m(\u001b[0m\u001b[0mbold_text\u001b[0m\u001b[1;33m)\u001b[0m\u001b[1;33m:\u001b[0m\u001b[1;33m\u001b[0m\u001b[0m\n\u001b[1;32m      2\u001b[0m     \u001b[0mregular_text\u001b[0m \u001b[1;33m=\u001b[0m \u001b[0marticle_tree\u001b[0m\u001b[1;33m.\u001b[0m\u001b[0mxpath\u001b[0m\u001b[1;33m(\u001b[0m\u001b[1;34m'//div/main/div[2]/article/p[{}]/text()'\u001b[0m\u001b[1;33m.\u001b[0m\u001b[0mformat\u001b[0m\u001b[1;33m(\u001b[0m\u001b[0mindex\u001b[0m\u001b[1;33m+\u001b[0m\u001b[1;36m1\u001b[0m\u001b[1;33m)\u001b[0m\u001b[1;33m)\u001b[0m\u001b[1;33m[\u001b[0m\u001b[1;36m1\u001b[0m\u001b[1;33m]\u001b[0m\u001b[1;33m[\u001b[0m\u001b[1;33m:\u001b[0m\u001b[1;33m-\u001b[0m\u001b[1;36m2\u001b[0m\u001b[1;33m]\u001b[0m\u001b[1;33m\u001b[0m\u001b[0m\n\u001b[0;32m----> 3\u001b[0;31m     \u001b[0msource\u001b[0m \u001b[1;33m=\u001b[0m \u001b[0marticle_tree\u001b[0m\u001b[1;33m.\u001b[0m\u001b[0mxpath\u001b[0m\u001b[1;33m(\u001b[0m\u001b[1;34m\"/html/body/div/main/div[2]/article/p[{}]/a/text()\"\u001b[0m\u001b[1;33m.\u001b[0m\u001b[0mformat\u001b[0m\u001b[1;33m(\u001b[0m\u001b[0mindex\u001b[0m\u001b[1;33m+\u001b[0m\u001b[1;36m1\u001b[0m\u001b[1;33m)\u001b[0m\u001b[1;33m)\u001b[0m\u001b[1;33m[\u001b[0m\u001b[1;36m0\u001b[0m\u001b[1;33m]\u001b[0m\u001b[1;33m\u001b[0m\u001b[0m\n\u001b[0m\u001b[1;32m      4\u001b[0m     \u001b[0mprint\u001b[0m\u001b[1;33m(\u001b[0m\u001b[0mitem\u001b[0m \u001b[1;33m+\u001b[0m \u001b[0mregular_text\u001b[0m \u001b[1;33m+\u001b[0m \u001b[1;34m' from '\u001b[0m \u001b[1;33m+\u001b[0m \u001b[0msource\u001b[0m\u001b[1;33m)\u001b[0m\u001b[1;33m\u001b[0m\u001b[0m\n\u001b[1;32m      5\u001b[0m     \u001b[0mprint\u001b[0m\u001b[1;33m(\u001b[0m\u001b[0msource\u001b[0m\u001b[1;33m)\u001b[0m\u001b[1;33m\u001b[0m\u001b[0m\n",
      "\u001b[0;31mIndexError\u001b[0m: list index out of range"
     ]
    }
   ],
   "source": [
    "# for index, item in enumerate(bold_text):\n",
    "#     regular_text = article_tree.xpath('//div/main/div[2]/article/p[{}]/text()'.format(index+1))[1][:-2]\n",
    "#     source = article_tree.xpath(\"/html/body/div/main/div[2]/article/p[{}]/a/text()\".format(index+1))[0]\n",
    "#     print(item + regular_text + ' from ' + source)\n",
    "#     print(source)\n",
    "    "
   ]
  }
 ],
 "metadata": {
  "kernelspec": {
   "display_name": "Python 3",
   "language": "python",
   "name": "python3"
  },
  "language_info": {
   "codemirror_mode": {
    "name": "ipython",
    "version": 3
   },
   "file_extension": ".py",
   "mimetype": "text/x-python",
   "name": "python",
   "nbconvert_exporter": "python",
   "pygments_lexer": "ipython3",
   "version": "3.4.4"
  }
 },
 "nbformat": 4,
 "nbformat_minor": 2
}
